{
 "cells": [
  {
   "cell_type": "code",
   "execution_count": 3,
   "id": "71ec7b22-0d06-412f-bb02-5059dcd83a6c",
   "metadata": {},
   "outputs": [
    {
     "ename": "ImportError",
     "evalue": "cannot import name 'ObjectFolder2' from 'datasets.ObjectFolder2' (/project/6088306/sarai/CrossPoint_OF2/datasets/ObjectFolder2.py)",
     "output_type": "error",
     "traceback": [
      "\u001b[0;31m---------------------------------------------------------------------------\u001b[0m",
      "\u001b[0;31mImportError\u001b[0m                               Traceback (most recent call last)",
      "Cell \u001b[0;32mIn[3], line 11\u001b[0m\n\u001b[1;32m      8\u001b[0m \u001b[38;5;28;01mfrom\u001b[39;00m\u001b[38;5;250m \u001b[39m\u001b[38;5;21;01mPIL\u001b[39;00m\u001b[38;5;250m \u001b[39m\u001b[38;5;28;01mimport\u001b[39;00m Image\n\u001b[1;32m     10\u001b[0m \u001b[38;5;66;03m# Import your Dataset class\u001b[39;00m\n\u001b[0;32m---> 11\u001b[0m \u001b[38;5;28;01mfrom\u001b[39;00m\u001b[38;5;250m \u001b[39m\u001b[38;5;21;01mdatasets\u001b[39;00m\u001b[38;5;21;01m.\u001b[39;00m\u001b[38;5;21;01mObjectFolder2\u001b[39;00m\u001b[38;5;250m \u001b[39m\u001b[38;5;28;01mimport\u001b[39;00m ObjectFolder2, get_default_transform\n",
      "File \u001b[0;32m/project/6088306/sarai/CrossPoint_OF2/datasets/__init__.py:1\u001b[0m\n\u001b[0;32m----> 1\u001b[0m \u001b[38;5;28;01mfrom\u001b[39;00m\u001b[38;5;250m \u001b[39m\u001b[38;5;21;01m.\u001b[39;00m\u001b[38;5;21;01mObjectFolder2\u001b[39;00m\u001b[38;5;250m \u001b[39m\u001b[38;5;28;01mimport\u001b[39;00m ObjectFolder2, get_default_transform\n",
      "\u001b[0;31mImportError\u001b[0m: cannot import name 'ObjectFolder2' from 'datasets.ObjectFolder2' (/project/6088306/sarai/CrossPoint_OF2/datasets/ObjectFolder2.py)"
     ]
    }
   ],
   "source": [
    "# 1. Imports\n",
    "import os\n",
    "import numpy as np\n",
    "import torch\n",
    "from torch.utils.data import DataLoader\n",
    "import matplotlib.pyplot as plt\n",
    "import open3d as o3d\n",
    "from PIL import Image\n",
    "\n",
    "# Import your Dataset class\n",
    "from datasets.ObjectFolder2 import ObjectFolder2Dataset, get_default_transform"
   ]
  },
  {
   "cell_type": "code",
   "execution_count": null,
   "id": "6193ab86-1da9-499f-8fd1-b5ab277238fd",
   "metadata": {},
   "outputs": [],
   "source": [
    "# 2. Paths\n",
    "DATA_DIR = \"/scratch/sarai/ObjectFolder_data/processed\"\n",
    "PC_DIR = os.path.join(DATA_DIR, \"pointclouds\")\n",
    "IMG_DIR = os.path.join(DATA_DIR, \"RGB_images\")\n",
    "\n",
    "# 3. Create Dataset\n",
    "transform = get_default_transform()\n",
    "dataset = ObjectFolder2Dataset(root_dir=DATA_DIR, transform=transform)\n",
    "\n",
    "print(f\"Loaded {len(dataset)} object pairs.\")\n",
    "\n",
    "# 4. Create DataLoader\n",
    "dataloader = DataLoader(dataset, batch_size=4, shuffle=True)"
   ]
  },
  {
   "cell_type": "code",
   "execution_count": null,
   "id": "d6a53a59-0e28-4679-bd6e-1b70d69b6cd4",
   "metadata": {},
   "outputs": [],
   "source": [
    "# 5. Visualize a batch\n",
    "pointclouds, images = next(iter(dataloader))\n",
    "\n",
    "print(\"Point cloud batch shape:\", pointclouds.shape)  # Expected: (4, 2048, 3)\n",
    "print(\"Image batch shape:\", images.shape)             # Expected: (4, 3, 224, 224)\n",
    "\n",
    "# 6. Plot one example\n",
    "def show_example(pc, img_tensor):\n",
    "    # Plot point cloud\n",
    "    pcd = o3d.geometry.PointCloud()\n",
    "    pcd.points = o3d.utility.Vector3dVector(pc)\n",
    "    o3d.visualization.draw_geometries([pcd])\n",
    "\n",
    "    # Plot image\n",
    "    img = img_tensor.permute(1, 2, 0).numpy()  # From (C, H, W) to (H, W, C)\n",
    "    img = (img * np.array([0.229, 0.224, 0.225])) + np.array([0.485, 0.456, 0.406])  # De-normalize\n",
    "    img = np.clip(img, 0, 1)\n",
    "\n",
    "    plt.imshow(img)\n",
    "    plt.axis(\"off\")\n",
    "    plt.title(\"Associated RGB image\")\n",
    "    plt.show()\n",
    "\n",
    "# Show first in batch\n",
    "show_example(pointclouds[0].numpy(), images[0])"
   ]
  }
 ],
 "metadata": {
  "kernelspec": {
   "display_name": "Python (jupyter1)",
   "language": "python",
   "name": "jupyter1"
  },
  "language_info": {
   "codemirror_mode": {
    "name": "ipython",
    "version": 3
   },
   "file_extension": ".py",
   "mimetype": "text/x-python",
   "name": "python",
   "nbconvert_exporter": "python",
   "pygments_lexer": "ipython3",
   "version": "3.10.13"
  }
 },
 "nbformat": 4,
 "nbformat_minor": 5
}
